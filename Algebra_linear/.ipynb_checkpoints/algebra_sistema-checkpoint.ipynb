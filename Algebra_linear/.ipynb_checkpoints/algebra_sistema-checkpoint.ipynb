{
 "cells": [
  {
   "cell_type": "markdown",
   "metadata": {},
   "source": [
    "# Resolução de sistema linear tranformando-o em uma matriz identidade"
   ]
  },
  {
   "cell_type": "code",
   "execution_count": 1,
   "metadata": {
    "id": "lrOXyN4_CkSc"
   },
   "outputs": [],
   "source": [
    "import numpy as np"
   ]
  },
  {
   "cell_type": "markdown",
   "metadata": {},
   "source": [
    "## Define a matriz a e printa"
   ]
  },
  {
   "cell_type": "code",
   "execution_count": 84,
   "metadata": {
    "colab": {
     "base_uri": "https://localhost:8080/"
    },
    "executionInfo": {
     "elapsed": 363,
     "status": "ok",
     "timestamp": 1683145434682,
     "user": {
      "displayName": "Vitor Kauã",
      "userId": "12140629191258006883"
     },
     "user_tz": 180
    },
    "id": "5fSiicu_FTo5",
    "outputId": "0ada1494-6c98-4f7f-9464-d8d5f0a0daf4"
   },
   "outputs": [
    {
     "data": {
      "text/plain": [
       "matrix([[ 1.,  1.,  2.,  9.],\n",
       "        [ 2.,  4., -3.,  1.],\n",
       "        [ 3.,  6., -5.,  0.]])"
      ]
     },
     "execution_count": 84,
     "metadata": {},
     "output_type": "execute_result"
    }
   ],
   "source": [
    "A = np.matrix('1.0, 1.0, 2.0 ,9.0; 2.0, 4.0, -3.0, 1.0; 3.0, 6.0, -5.0, 0.0')\n",
    "\n",
    "A"
   ]
  },
  {
   "cell_type": "code",
   "execution_count": 85,
   "metadata": {
    "colab": {
     "base_uri": "https://localhost:8080/"
    },
    "executionInfo": {
     "elapsed": 4,
     "status": "ok",
     "timestamp": 1683145435057,
     "user": {
      "displayName": "Vitor Kauã",
      "userId": "12140629191258006883"
     },
     "user_tz": 180
    },
    "id": "0N__nVX4F82-",
    "outputId": "472604f9-c38b-4f6d-ee0a-9df288ecceef"
   },
   "outputs": [
    {
     "data": {
      "text/plain": [
       "matrix([[  1.,   1.,   2.,   9.],\n",
       "        [  0.,   2.,  -7., -17.],\n",
       "        [  3.,   6.,  -5.,   0.]])"
      ]
     },
     "execution_count": 85,
     "metadata": {},
     "output_type": "execute_result"
    }
   ],
   "source": [
    "A[1,:] = -2*A[0,:] + A[1,:]\n",
    "\n",
    "A"
   ]
  },
  {
   "cell_type": "code",
   "execution_count": 86,
   "metadata": {
    "colab": {
     "base_uri": "https://localhost:8080/"
    },
    "executionInfo": {
     "elapsed": 4,
     "status": "ok",
     "timestamp": 1683145435692,
     "user": {
      "displayName": "Vitor Kauã",
      "userId": "12140629191258006883"
     },
     "user_tz": 180
    },
    "id": "mrD6elPJKc2d",
    "outputId": "b8a4bb3f-daa3-4e69-a431-f94374196f81"
   },
   "outputs": [
    {
     "data": {
      "text/plain": [
       "matrix([[  1.,   1.,   2.,   9.],\n",
       "        [  0.,   2.,  -7., -17.],\n",
       "        [  0.,   3., -11., -27.]])"
      ]
     },
     "execution_count": 86,
     "metadata": {},
     "output_type": "execute_result"
    }
   ],
   "source": [
    "A[2, :] = A[2, :] - 3*A[0, :]\n",
    "\n",
    "A"
   ]
  },
  {
   "cell_type": "code",
   "execution_count": 87,
   "metadata": {
    "colab": {
     "base_uri": "https://localhost:8080/"
    },
    "executionInfo": {
     "elapsed": 6,
     "status": "ok",
     "timestamp": 1683145435964,
     "user": {
      "displayName": "Vitor Kauã",
      "userId": "12140629191258006883"
     },
     "user_tz": 180
    },
    "id": "fF1VzB7ZM9dt",
    "outputId": "c4a565e6-3496-4f12-e2af-b57e9511c299"
   },
   "outputs": [
    {
     "data": {
      "text/plain": [
       "matrix([[  1. ,   1. ,   2. ,   9. ],\n",
       "        [  0. ,   1. ,  -3.5,  -8.5],\n",
       "        [  0. ,   3. , -11. , -27. ]])"
      ]
     },
     "execution_count": 87,
     "metadata": {},
     "output_type": "execute_result"
    }
   ],
   "source": [
    "A[1, :] = (1/2) * A[1, :]\n",
    "\n",
    "A"
   ]
  },
  {
   "cell_type": "code",
   "execution_count": 88,
   "metadata": {
    "colab": {
     "base_uri": "https://localhost:8080/"
    },
    "executionInfo": {
     "elapsed": 4,
     "status": "ok",
     "timestamp": 1683145435964,
     "user": {
      "displayName": "Vitor Kauã",
      "userId": "12140629191258006883"
     },
     "user_tz": 180
    },
    "id": "mmJ9Jw3gOB3M",
    "outputId": "a1a55284-56e7-47df-db69-f5eb6fadc704"
   },
   "outputs": [
    {
     "data": {
      "text/plain": [
       "matrix([[ 1. ,  1. ,  2. ,  9. ],\n",
       "        [ 0. ,  1. , -3.5, -8.5],\n",
       "        [ 0. ,  0. , -0.5, -1.5]])"
      ]
     },
     "execution_count": 88,
     "metadata": {},
     "output_type": "execute_result"
    }
   ],
   "source": [
    "A[2, :] = A[2, :] - 3*A[1, :]\n",
    "\n",
    "A"
   ]
  },
  {
   "cell_type": "code",
   "execution_count": 89,
   "metadata": {
    "colab": {
     "base_uri": "https://localhost:8080/"
    },
    "executionInfo": {
     "elapsed": 4,
     "status": "ok",
     "timestamp": 1683145436240,
     "user": {
      "displayName": "Vitor Kauã",
      "userId": "12140629191258006883"
     },
     "user_tz": 180
    },
    "id": "RUPtP7ljRHm1",
    "outputId": "63170a41-e218-4488-ae11-fea88c3ebb44"
   },
   "outputs": [
    {
     "data": {
      "text/plain": [
       "matrix([[ 1. ,  1. ,  2. ,  9. ],\n",
       "        [ 0. ,  1. , -3.5, -8.5],\n",
       "        [ 0. ,  0. ,  1. ,  3. ]])"
      ]
     },
     "execution_count": 89,
     "metadata": {},
     "output_type": "execute_result"
    }
   ],
   "source": [
    "A[2, :] = -2*A[2, :]\n",
    "\n",
    "A"
   ]
  },
  {
   "cell_type": "code",
   "execution_count": 91,
   "metadata": {
    "colab": {
     "base_uri": "https://localhost:8080/"
    },
    "executionInfo": {
     "elapsed": 271,
     "status": "ok",
     "timestamp": 1683145529497,
     "user": {
      "displayName": "Vitor Kauã",
      "userId": "12140629191258006883"
     },
     "user_tz": 180
    },
    "id": "DCnESuA8Rxk8",
    "outputId": "170e92d1-4e95-4061-a85f-5505148983a5"
   },
   "outputs": [
    {
     "data": {
      "text/plain": [
       "matrix([[ 1. ,  1. , -1. ,  0. ],\n",
       "        [ 0. ,  1. , -3.5, -8.5],\n",
       "        [ 0. ,  0. ,  1. ,  3. ]])"
      ]
     },
     "execution_count": 91,
     "metadata": {},
     "output_type": "execute_result"
    }
   ],
   "source": [
    "A[0, :] = A[0, :] - 3*A[2, :]\n",
    "\n",
    "A"
   ]
  },
  {
   "cell_type": "code",
   "execution_count": null,
   "metadata": {
    "id": "T5baYRvaSS0y"
   },
   "outputs": [],
   "source": []
  }
 ],
 "metadata": {
  "colab": {
   "authorship_tag": "ABX9TyPwAhg4aAYVHTbohH2C/6po",
   "provenance": []
  },
  "kernelspec": {
   "display_name": "Python 3 (ipykernel)",
   "language": "python",
   "name": "python3"
  },
  "language_info": {
   "codemirror_mode": {
    "name": "ipython",
    "version": 3
   },
   "file_extension": ".py",
   "mimetype": "text/x-python",
   "name": "python",
   "nbconvert_exporter": "python",
   "pygments_lexer": "ipython3",
   "version": "3.11.3"
  }
 },
 "nbformat": 4,
 "nbformat_minor": 1
}
