{
 "cells": [
  {
   "cell_type": "markdown",
   "metadata": {
    "id": "t4XMrkg9Q2K1"
   },
   "source": [
    "# Conseguindo uma matriz inversa\n",
    "\n",
    "## Para determinar a matriz inversa de uma matriz quadrada A de ordem n, basta descobrir uma matriz B tal que a multiplicação entre elas tenha como resultado uma matriz identidade de ordem n.\n",
    "\n",
    "### A*B = B*A = In\n",
    "### Dizemos que B é a inversa de A e é representada por A-1.\"\n"
   ]
  },
  {
   "cell_type": "markdown",
   "metadata": {},
   "source": [
    "## Importa a biblioteca numpy"
   ]
  },
  {
   "cell_type": "code",
   "execution_count": 3,
   "metadata": {
    "executionInfo": {
     "elapsed": 234,
     "status": "ok",
     "timestamp": 1683750982079,
     "user": {
      "displayName": "Vitor Kauã",
      "userId": "12140629191258006883"
     },
     "user_tz": 180
    },
    "id": "ct2jzmIgN-G5"
   },
   "outputs": [],
   "source": [
    "import numpy as np"
   ]
  },
  {
   "cell_type": "markdown",
   "metadata": {},
   "source": [
    "### Criando matrix A"
   ]
  },
  {
   "cell_type": "code",
   "execution_count": 4,
   "metadata": {
    "colab": {
     "base_uri": "https://localhost:8080/"
    },
    "executionInfo": {
     "elapsed": 13,
     "status": "ok",
     "timestamp": 1683750982336,
     "user": {
      "displayName": "Vitor Kauã",
      "userId": "12140629191258006883"
     },
     "user_tz": 180
    },
    "id": "v66UMD58OEr-",
    "outputId": "a7e105b0-ab29-49f3-fb93-2bd512ba71e2"
   },
   "outputs": [
    {
     "name": "stdout",
     "output_type": "stream",
     "text": [
      "[[3. 7. 2.]\n",
      " [9. 2. 4.]\n",
      " [8. 9. 7.]]\n"
     ]
    }
   ],
   "source": [
    "A = np.matrix('3.0, 7.0, 2.0 ; 9.0, 2.0, 4.0; 8.0, 9.0, 7.0')\n",
    "print(A)"
   ]
  },
  {
   "cell_type": "markdown",
   "metadata": {},
   "source": [
    "## Cria a matriz identidade B, de ordem 3"
   ]
  },
  {
   "cell_type": "code",
   "execution_count": 5,
   "metadata": {
    "colab": {
     "base_uri": "https://localhost:8080/"
    },
    "executionInfo": {
     "elapsed": 12,
     "status": "ok",
     "timestamp": 1683750982336,
     "user": {
      "displayName": "Vitor Kauã",
      "userId": "12140629191258006883"
     },
     "user_tz": 180
    },
    "id": "UxPHficROHkQ",
    "outputId": "25c42a34-ec47-4198-edf2-e06255c32b69"
   },
   "outputs": [
    {
     "name": "stdout",
     "output_type": "stream",
     "text": [
      "[[1. 0. 0.]\n",
      " [0. 1. 0.]\n",
      " [0. 0. 1.]]\n"
     ]
    }
   ],
   "source": [
    "B = np.identity(3)\n",
    "print(B)"
   ]
  },
  {
   "cell_type": "markdown",
   "metadata": {
    "id": "VXD5OFgBO_pF"
   },
   "source": [
    "# Passo a passo\n",
    "\n",
    "## - Para obter a matriz inversa, nós devemos transformar a matriz A em uma matriz identidade;\n",
    "## - Todo calculo realizado na matriz A para transforma-la em identidade devem ser também realizados na matriz B, a própria matriz identidade, que possi a mesma ordem da matriz A;"
   ]
  },
  {
   "cell_type": "markdown",
   "metadata": {},
   "source": [
    "## Para tornar um termo 1:\n",
    "\n",
    "### (1/an) x A[0,]\n",
    "\n",
    "### Um sobre o valor do termo multiplicado pela linha que o termo está"
   ]
  },
  {
   "cell_type": "code",
   "execution_count": 58,
   "metadata": {
    "colab": {
     "base_uri": "https://localhost:8080/"
    },
    "executionInfo": {
     "elapsed": 11,
     "status": "ok",
     "timestamp": 1683750982337,
     "user": {
      "displayName": "Vitor Kauã",
      "userId": "12140629191258006883"
     },
     "user_tz": 180
    },
    "id": "L1u7SgqBOl_H",
    "outputId": "c64b82d8-c832-4c39-ecac-f7db81944834"
   },
   "outputs": [
    {
     "name": "stdout",
     "output_type": "stream",
     "text": [
      "[[1.         2.33333333 0.66666667]\n",
      " [9.         2.         4.        ]\n",
      " [8.         9.         7.        ]]\n",
      "\n",
      "\n",
      "[[0.33333333 0.77777778 0.22222222]\n",
      " [0.         1.         0.        ]\n",
      " [0.         0.         1.        ]]\n"
     ]
    }
   ],
   "source": [
    "A[0,] = 1/3*A[0,]\n",
    "print(A)\n",
    "print(\"\\n\")\n",
    "B[0,] = 1/3*A[0,]\n",
    "print(B)"
   ]
  },
  {
   "cell_type": "code",
   "execution_count": 59,
   "metadata": {
    "colab": {
     "base_uri": "https://localhost:8080/"
    },
    "executionInfo": {
     "elapsed": 9,
     "status": "ok",
     "timestamp": 1683750982337,
     "user": {
      "displayName": "Vitor Kauã",
      "userId": "12140629191258006883"
     },
     "user_tz": 180
    },
    "id": "-SmGMjN-Pzqw",
    "outputId": "658f8b73-2118-4513-f325-4926d40c2cc7"
   },
   "outputs": [
    {
     "name": "stdout",
     "output_type": "stream",
     "text": [
      "[[ 1.          2.33333333  0.66666667]\n",
      " [ 0.         19.          2.        ]\n",
      " [ 8.          9.          7.        ]]\n",
      "\n",
      "\n",
      "[[0.33333333 0.77777778 0.22222222]\n",
      " [3.         6.         2.        ]\n",
      " [0.         0.         1.        ]]\n"
     ]
    }
   ],
   "source": [
    "A[1,] = 9*A[0,] - A[1,]\n",
    "print(A)\n",
    "print(\"\\n\")\n",
    "B[1,] = 9*B[0,] - B[1,]\n",
    "print(B)"
   ]
  },
  {
   "cell_type": "code",
   "execution_count": 60,
   "metadata": {
    "colab": {
     "base_uri": "https://localhost:8080/"
    },
    "executionInfo": {
     "elapsed": 7,
     "status": "ok",
     "timestamp": 1683750982337,
     "user": {
      "displayName": "Vitor Kauã",
      "userId": "12140629191258006883"
     },
     "user_tz": 180
    },
    "id": "b086ynuaRt1X",
    "outputId": "107ca362-892d-4788-d3a0-313b9dcea13c"
   },
   "outputs": [
    {
     "name": "stdout",
     "output_type": "stream",
     "text": [
      "[[ 1.          2.33333333  0.66666667]\n",
      " [ 0.         19.          2.        ]\n",
      " [ 0.          9.66666667 -1.66666667]]\n",
      "\n",
      "\n",
      "[[0.33333333 0.77777778 0.22222222]\n",
      " [3.         6.         2.        ]\n",
      " [2.66666667 6.22222222 0.77777778]]\n"
     ]
    }
   ],
   "source": [
    "A[2,] = 8*A[0,] - A[2,]\n",
    "print(A)\n",
    "print(\"\\n\")\n",
    "B[2,] = 8*B[0,] - B[2,]\n",
    "print(B)"
   ]
  },
  {
   "cell_type": "code",
   "execution_count": 61,
   "metadata": {
    "colab": {
     "base_uri": "https://localhost:8080/"
    },
    "executionInfo": {
     "elapsed": 7,
     "status": "ok",
     "timestamp": 1683750982338,
     "user": {
      "displayName": "Vitor Kauã",
      "userId": "12140629191258006883"
     },
     "user_tz": 180
    },
    "id": "qoAi-Xh_WMQG",
    "outputId": "6d1cf92c-f53b-4148-c1b0-e5c211cb5af9"
   },
   "outputs": [
    {
     "name": "stdout",
     "output_type": "stream",
     "text": [
      "[[ 1.          2.33333333  0.66666667]\n",
      " [ 0.          1.          0.10526316]\n",
      " [ 0.          9.66666667 -1.66666667]]\n",
      "\n",
      "\n",
      "[[0.33333333 0.77777778 0.22222222]\n",
      " [0.15789474 0.31578947 0.10526316]\n",
      " [2.66666667 6.22222222 0.77777778]]\n"
     ]
    }
   ],
   "source": [
    "A[1,] =  1/19 * A[1,]\n",
    "print(A) \n",
    "print(\"\\n\")\n",
    "B[1,] =  1/19 * B[1,]\n",
    "print(B) "
   ]
  },
  {
   "cell_type": "code",
   "execution_count": 61,
   "metadata": {
    "executionInfo": {
     "elapsed": 5,
     "status": "ok",
     "timestamp": 1683750982338,
     "user": {
      "displayName": "Vitor Kauã",
      "userId": "12140629191258006883"
     },
     "user_tz": 180
    },
    "id": "PB9um06KYLR9"
   },
   "outputs": [],
   "source": []
  }
 ],
 "metadata": {
  "colab": {
   "authorship_tag": "ABX9TyPgWhI9H3RSvwtG35XeWi28",
   "provenance": []
  },
  "kernelspec": {
   "display_name": "Python 3 (ipykernel)",
   "language": "python",
   "name": "python3"
  },
  "language_info": {
   "codemirror_mode": {
    "name": "ipython",
    "version": 3
   },
   "file_extension": ".py",
   "mimetype": "text/x-python",
   "name": "python",
   "nbconvert_exporter": "python",
   "pygments_lexer": "ipython3",
   "version": "3.11.3"
  }
 },
 "nbformat": 4,
 "nbformat_minor": 1
}
