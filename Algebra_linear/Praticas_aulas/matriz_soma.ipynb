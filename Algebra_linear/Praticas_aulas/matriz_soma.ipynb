{
 "cells": [
  {
   "cell_type": "markdown",
   "metadata": {},
   "source": [
    "# Somas e multiplicações de matrizes"
   ]
  },
  {
   "cell_type": "code",
   "execution_count": 19,
   "metadata": {
    "executionInfo": {
     "elapsed": 247,
     "status": "ok",
     "timestamp": 1683668916467,
     "user": {
      "displayName": "Vitor Kauã",
      "userId": "12140629191258006883"
     },
     "user_tz": 180
    },
    "id": "Mh1eypWHZiRU",
    "scrolled": true
   },
   "outputs": [],
   "source": [
    "import numpy as np"
   ]
  },
  {
   "cell_type": "markdown",
   "metadata": {},
   "source": [
    "## Criando matriz A, Printando matriz A, Printando ordem da matriz A"
   ]
  },
  {
   "cell_type": "code",
   "execution_count": 20,
   "metadata": {
    "colab": {
     "base_uri": "https://localhost:8080/"
    },
    "executionInfo": {
     "elapsed": 2,
     "status": "ok",
     "timestamp": 1683668916715,
     "user": {
      "displayName": "Vitor Kauã",
      "userId": "12140629191258006883"
     },
     "user_tz": 180
    },
    "id": "Z-t0f2KBa15D",
    "outputId": "c38ec897-d4d5-4908-b512-99105fbd7f6a"
   },
   "outputs": [
    {
     "name": "stdout",
     "output_type": "stream",
     "text": [
      "[[1. 2. 4.]\n",
      " [5. 6. 7.]]\n",
      "(2, 3)\n"
     ]
    }
   ],
   "source": [
    "A = np.matrix('1.0, 2.0, 4.0; 5.0, 6.0, 7.0')\n",
    "print(A)\n",
    "print(np.shape(A))"
   ]
  },
  {
   "cell_type": "markdown",
   "metadata": {},
   "source": [
    "## Criando matriz B, Printando matriz B, Printando ordem da matriz B"
   ]
  },
  {
   "cell_type": "code",
   "execution_count": 21,
   "metadata": {
    "colab": {
     "base_uri": "https://localhost:8080/"
    },
    "executionInfo": {
     "elapsed": 5,
     "status": "ok",
     "timestamp": 1683668918707,
     "user": {
      "displayName": "Vitor Kauã",
      "userId": "12140629191258006883"
     },
     "user_tz": 180
    },
    "id": "TvSyAHzEbh1n",
    "outputId": "1b8c53d5-21ac-4439-92db-fe45941d7423"
   },
   "outputs": [
    {
     "name": "stdout",
     "output_type": "stream",
     "text": [
      "[[ 7.  3.  9.]\n",
      " [12.  3.  5.]]\n",
      "\n",
      "\n"
     ]
    },
    {
     "data": {
      "text/plain": [
       "(2, 3)"
      ]
     },
     "execution_count": 21,
     "metadata": {},
     "output_type": "execute_result"
    }
   ],
   "source": [
    "B = np.matrix('7.0, 3.0, 9.0; 12.0, 3.0, 5.0')\n",
    "print(B)\n",
    "print(\"\\n\")\n",
    "np.shape(B)"
   ]
  },
  {
   "cell_type": "markdown",
   "metadata": {},
   "source": [
    "## Somando matrizes"
   ]
  },
  {
   "cell_type": "markdown",
   "metadata": {},
   "source": [
    "### Matriz A + Matriz B"
   ]
  },
  {
   "cell_type": "code",
   "execution_count": 22,
   "metadata": {
    "colab": {
     "base_uri": "https://localhost:8080/"
    },
    "executionInfo": {
     "elapsed": 4,
     "status": "ok",
     "timestamp": 1683668859538,
     "user": {
      "displayName": "Vitor Kauã",
      "userId": "12140629191258006883"
     },
     "user_tz": 180
    },
    "id": "y1n9Qw8jdnnq",
    "outputId": "bfd81c1c-1e82-4a21-c45a-b07903ce996f"
   },
   "outputs": [
    {
     "name": "stdout",
     "output_type": "stream",
     "text": [
      "[[ 8.  5. 13.]\n",
      " [17.  9. 12.]]\n"
     ]
    }
   ],
   "source": [
    "sumAB = A + B\n",
    "print(sumAB)"
   ]
  },
  {
   "cell_type": "markdown",
   "metadata": {},
   "source": [
    "### Matriz B + Matriz A"
   ]
  },
  {
   "cell_type": "code",
   "execution_count": 23,
   "metadata": {},
   "outputs": [
    {
     "name": "stdout",
     "output_type": "stream",
     "text": [
      "[[ 8.  5. 13.]\n",
      " [17.  9. 12.]]\n"
     ]
    }
   ],
   "source": [
    "sumBA = B + A\n",
    "print(sumBA)"
   ]
  },
  {
   "cell_type": "markdown",
   "metadata": {},
   "source": [
    "---\n",
    "#### Tanto a soma de A + B, tanto B + A, resultando num mesmo resultado\n",
    "\n",
    "#### A + B = B + A\n",
    "---"
   ]
  },
  {
   "cell_type": "markdown",
   "metadata": {},
   "source": [
    "## Subtração entre matrizes"
   ]
  },
  {
   "cell_type": "markdown",
   "metadata": {},
   "source": [
    "### Matriz A - Matriz B"
   ]
  },
  {
   "cell_type": "code",
   "execution_count": 24,
   "metadata": {
    "colab": {
     "base_uri": "https://localhost:8080/"
    },
    "executionInfo": {
     "elapsed": 331,
     "status": "ok",
     "timestamp": 1683668924494,
     "user": {
      "displayName": "Vitor Kauã",
      "userId": "12140629191258006883"
     },
     "user_tz": 180
    },
    "id": "mVICZ0uGeB3P",
    "outputId": "74dcc324-6619-4629-eb38-2bc5e0a56b48"
   },
   "outputs": [
    {
     "name": "stdout",
     "output_type": "stream",
     "text": [
      "[[-6. -1. -5.]\n",
      " [-7.  3.  2.]]\n"
     ]
    }
   ],
   "source": [
    "subAB = A - B\n",
    "print(subAB)"
   ]
  },
  {
   "cell_type": "markdown",
   "metadata": {},
   "source": [
    "### Matriz B - Matriz A"
   ]
  },
  {
   "cell_type": "code",
   "execution_count": 25,
   "metadata": {
    "scrolled": true
   },
   "outputs": [
    {
     "name": "stdout",
     "output_type": "stream",
     "text": [
      "[[ 6.  1.  5.]\n",
      " [ 7. -3. -2.]]\n"
     ]
    }
   ],
   "source": [
    "subBA = B -A\n",
    "print(subBA)"
   ]
  },
  {
   "cell_type": "markdown",
   "metadata": {},
   "source": [
    "---\n",
    "#### Diferente da soma de matrizes, onde A + B = B +A, na subtração A - B != B - A\n",
    "\n",
    "#### A - (+B); B - (+A)\n",
    "---"
   ]
  },
  {
   "cell_type": "markdown",
   "metadata": {},
   "source": [
    "## Multiplicação de matrizes por escalar"
   ]
  },
  {
   "cell_type": "code",
   "execution_count": 26,
   "metadata": {
    "colab": {
     "base_uri": "https://localhost:8080/"
    },
    "executionInfo": {
     "elapsed": 296,
     "status": "ok",
     "timestamp": 1683669253024,
     "user": {
      "displayName": "Vitor Kauã",
      "userId": "12140629191258006883"
     },
     "user_tz": 180
    },
    "id": "9q6VqwgoewoL",
    "outputId": "3ffdf97b-bb1d-4798-aa1a-83d5c1b7a820"
   },
   "outputs": [
    {
     "name": "stdout",
     "output_type": "stream",
     "text": [
      "[[ 2.  4.  8.]\n",
      " [10. 12. 14.]]\n"
     ]
    }
   ],
   "source": [
    "scalar = 2\n",
    "\n",
    "scalarMult = (k * A)\n",
    "print(scalarMult)"
   ]
  },
  {
   "cell_type": "markdown",
   "metadata": {},
   "source": [
    "## Multiplicação de matrizes"
   ]
  },
  {
   "cell_type": "markdown",
   "metadata": {},
   "source": [
    "### Definindo a matriz 'a', de ordem 1x3 e matriz 'b', de ordem 3x2\n",
    "\n",
    "### Numa multiplicação de matrizes, o número de COLUNAS de 'a' é igual ao número de LINHAS de 'b'\n",
    "\n",
    "### Definindo e printando 'a' e 'b'"
   ]
  },
  {
   "cell_type": "code",
   "execution_count": 27,
   "metadata": {
    "colab": {
     "base_uri": "https://localhost:8080/"
    },
    "executionInfo": {
     "elapsed": 475,
     "status": "ok",
     "timestamp": 1683669487893,
     "user": {
      "displayName": "Vitor Kauã",
      "userId": "12140629191258006883"
     },
     "user_tz": 180
    },
    "id": "zTSgztOsfmRk",
    "outputId": "7e05828e-3f1c-4318-ac51-029c7a1f733a"
   },
   "outputs": [
    {
     "name": "stdout",
     "output_type": "stream",
     "text": [
      "[[3. 2. 7.]]\n",
      "\n",
      "\n",
      "[[ 2.  7.]\n",
      " [ 5.  9.]\n",
      " [13. 17.]]\n"
     ]
    }
   ],
   "source": [
    "a = np.matrix(\"3.0, 2.0, 7.0\")\n",
    "b = np.matrix(\"2.0, 7.0; 5.0, 9.0; 13.0, 17.0 \")\n",
    "print(a)\n",
    "print(\"\\n\")\n",
    "print(b)"
   ]
  },
  {
   "cell_type": "markdown",
   "metadata": {},
   "source": [
    "### Printando ordem das matrizes 'a' e 'b'"
   ]
  },
  {
   "cell_type": "code",
   "execution_count": 28,
   "metadata": {},
   "outputs": [
    {
     "name": "stdout",
     "output_type": "stream",
     "text": [
      "(1, 3)\n",
      "(3, 2)\n"
     ]
    }
   ],
   "source": [
    "print(np.shape(a))\n",
    "print(np.shape(b))"
   ]
  },
  {
   "cell_type": "markdown",
   "metadata": {},
   "source": [
    "### Multiplicação das matrizes"
   ]
  },
  {
   "cell_type": "code",
   "execution_count": 29,
   "metadata": {},
   "outputs": [
    {
     "name": "stdout",
     "output_type": "stream",
     "text": [
      "[[107. 158.]]\n"
     ]
    }
   ],
   "source": [
    "mult = a * b\n",
    "print(mult)"
   ]
  },
  {
   "cell_type": "markdown",
   "metadata": {},
   "source": [
    "### Definindo novas matrizes 'x1' e 'x2'"
   ]
  },
  {
   "cell_type": "code",
   "execution_count": 30,
   "metadata": {
    "colab": {
     "base_uri": "https://localhost:8080/"
    },
    "executionInfo": {
     "elapsed": 270,
     "status": "ok",
     "timestamp": 1683669722858,
     "user": {
      "displayName": "Vitor Kauã",
      "userId": "12140629191258006883"
     },
     "user_tz": 180
    },
    "id": "yZa9ShHrgfqz",
    "outputId": "dcdc4eee-bf2e-4eea-9bad-93152332803d"
   },
   "outputs": [
    {
     "name": "stdout",
     "output_type": "stream",
     "text": [
      "[[2. 7.]\n",
      " [3. 9.]]\n",
      "\n",
      "\n",
      "[[5. 2.]\n",
      " [1. 4.]]\n"
     ]
    }
   ],
   "source": [
    "x1 = np.matrix(\"2.0, 7.0; 3.0, 9.0\")\n",
    "x2 = np.matrix(\"5.0, 2.0; 1.0, 4.0\")\n",
    "print(x1)\n",
    "print(\"\\n\")\n",
    "print(x2)\n"
   ]
  },
  {
   "cell_type": "markdown",
   "metadata": {},
   "source": [
    "### Multiplicando 'x1'x'x2' e 'x2'x'x1'"
   ]
  },
  {
   "cell_type": "code",
   "execution_count": 36,
   "metadata": {},
   "outputs": [
    {
     "name": "stdout",
     "output_type": "stream",
     "text": [
      "[[17. 32.]\n",
      " [24. 42.]]\n",
      "\n",
      "\n",
      "[[16. 53.]\n",
      " [14. 43.]]\n"
     ]
    }
   ],
   "source": [
    "multX12 = x1 * x2\n",
    "print(multX12)\n",
    "print(\"\\n\")\n",
    "multX21 = x2 * x1\n",
    "print(multX21)"
   ]
  },
  {
   "cell_type": "markdown",
   "metadata": {},
   "source": [
    "---\n",
    "#### Diferente da soma das matrizes e assim com a subtração de matrizes;\n",
    "\n",
    "#### 'a'x'b != 'b'x'a'\n",
    "---"
   ]
  },
  {
   "cell_type": "markdown",
   "metadata": {},
   "source": [
    "## Matrizes identidades"
   ]
  },
  {
   "cell_type": "markdown",
   "metadata": {},
   "source": [
    "### Definindo matriz identidade 'z' de ordem 2 e printando"
   ]
  },
  {
   "cell_type": "code",
   "execution_count": 32,
   "metadata": {
    "colab": {
     "base_uri": "https://localhost:8080/"
    },
    "executionInfo": {
     "elapsed": 263,
     "status": "ok",
     "timestamp": 1683669899267,
     "user": {
      "displayName": "Vitor Kauã",
      "userId": "12140629191258006883"
     },
     "user_tz": 180
    },
    "id": "uu3WiqN_i0ik",
    "outputId": "e89fef3a-a02f-4026-8795-c82436bf714c"
   },
   "outputs": [
    {
     "name": "stdout",
     "output_type": "stream",
     "text": [
      "[[1. 0.]\n",
      " [0. 1.]]\n"
     ]
    }
   ],
   "source": [
    "z = np.identity(2)\n",
    "print(z)"
   ]
  },
  {
   "cell_type": "markdown",
   "metadata": {},
   "source": [
    "### Multiplicando a matriz identidade por outra matriz"
   ]
  },
  {
   "cell_type": "code",
   "execution_count": 37,
   "metadata": {
    "colab": {
     "base_uri": "https://localhost:8080/"
    },
    "executionInfo": {
     "elapsed": 5,
     "status": "ok",
     "timestamp": 1683670068609,
     "user": {
      "displayName": "Vitor Kauã",
      "userId": "12140629191258006883"
     },
     "user_tz": 180
    },
    "id": "3pcCAadVi9Rq",
    "outputId": "e6dc6eb3-637a-4a23-9a4e-8a3a80cfb55e"
   },
   "outputs": [
    {
     "name": "stdout",
     "output_type": "stream",
     "text": [
      "[[2. 7.]\n",
      " [3. 9.]]\n"
     ]
    }
   ],
   "source": [
    "Z = z * x1\n",
    "print(Z)"
   ]
  },
  {
   "cell_type": "code",
   "execution_count": 38,
   "metadata": {
    "colab": {
     "base_uri": "https://localhost:8080/"
    },
    "executionInfo": {
     "elapsed": 4,
     "status": "ok",
     "timestamp": 1683670134781,
     "user": {
      "displayName": "Vitor Kauã",
      "userId": "12140629191258006883"
     },
     "user_tz": 180
    },
    "id": "bS7XRePijkE8",
    "outputId": "684de36c-c3b9-41da-ea75-e132a43fd94f",
    "scrolled": true
   },
   "outputs": [
    {
     "name": "stdout",
     "output_type": "stream",
     "text": [
      "[[2. 7.]\n",
      " [3. 9.]]\n"
     ]
    }
   ],
   "source": [
    "Z = x1 * z \n",
    "print(Z)"
   ]
  },
  {
   "cell_type": "markdown",
   "metadata": {},
   "source": [
    "#### Assim como a soma de matrizes;\n",
    "\n",
    "#### Numa multiplicação de matrizes, sendo uma delas uma matriz identidade e ambas tendo OBRIGATORIAMENTE a mesma ordem e sendo uma matriz quadrada\n",
    "\n",
    "#### x1 * a = a * x1"
   ]
  },
  {
   "cell_type": "code",
   "execution_count": null,
   "metadata": {},
   "outputs": [],
   "source": []
  }
 ],
 "metadata": {
  "colab": {
   "authorship_tag": "ABX9TyN5PU68TZmacOLINhz/cSS1",
   "provenance": []
  },
  "kernelspec": {
   "display_name": "Python 3 (ipykernel)",
   "language": "python",
   "name": "python3"
  },
  "language_info": {
   "codemirror_mode": {
    "name": "ipython",
    "version": 3
   },
   "file_extension": ".py",
   "mimetype": "text/x-python",
   "name": "python",
   "nbconvert_exporter": "python",
   "pygments_lexer": "ipython3",
   "version": "3.11.3"
  }
 },
 "nbformat": 4,
 "nbformat_minor": 1
}
