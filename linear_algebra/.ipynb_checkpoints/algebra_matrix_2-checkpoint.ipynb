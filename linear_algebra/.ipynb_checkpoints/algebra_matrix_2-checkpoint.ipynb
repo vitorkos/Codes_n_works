{
 "cells": [
  {
   "cell_type": "code",
   "execution_count": 1,
   "metadata": {
    "executionInfo": {
     "elapsed": 342,
     "status": "ok",
     "timestamp": 1683746731368,
     "user": {
      "displayName": "Vitor Kauã",
      "userId": "12140629191258006883"
     },
     "user_tz": 180
    },
    "id": "DF5A0zi9H-zS"
   },
   "outputs": [],
   "source": [
    "import numpy as np"
   ]
  },
  {
   "cell_type": "markdown",
   "metadata": {
    "id": "vcN-RsI6L2od"
   },
   "source": [
    "Criação de matriz"
   ]
  },
  {
   "cell_type": "code",
   "execution_count": 4,
   "metadata": {
    "colab": {
     "base_uri": "https://localhost:8080/"
    },
    "executionInfo": {
     "elapsed": 337,
     "status": "ok",
     "timestamp": 1683746943695,
     "user": {
      "displayName": "Vitor Kauã",
      "userId": "12140629191258006883"
     },
     "user_tz": 180
    },
    "id": "jbIyHSAlF6iT",
    "outputId": "3042a9c8-1f04-4b4f-fefb-86c8dc83cd13"
   },
   "outputs": [
    {
     "name": "stdout",
     "output_type": "stream",
     "text": [
      "[[3. 7. 2.]\n",
      " [9. 2. 4.]\n",
      " [8. 9. 7.]]\n"
     ]
    }
   ],
   "source": [
    "A = np.matrix('3.0, 7.0, 2.0 ; 9.0, 2.0, 4.0; 8.0, 9.0, 7.0')\n",
    "print(A)"
   ]
  },
  {
   "cell_type": "markdown",
   "metadata": {
    "id": "q53ssKcCL5bO"
   },
   "source": [
    "Criação matriz identidade B"
   ]
  },
  {
   "cell_type": "code",
   "execution_count": 6,
   "metadata": {
    "colab": {
     "base_uri": "https://localhost:8080/"
    },
    "executionInfo": {
     "elapsed": 254,
     "status": "ok",
     "timestamp": 1683746973525,
     "user": {
      "displayName": "Vitor Kauã",
      "userId": "12140629191258006883"
     },
     "user_tz": 180
    },
    "id": "Y4KtmWk2IBeT",
    "outputId": "70311a10-fbb7-441b-cc93-3bd40cea729d"
   },
   "outputs": [
    {
     "name": "stdout",
     "output_type": "stream",
     "text": [
      "[[1. 0. 0.]\n",
      " [0. 1. 0.]\n",
      " [0. 0. 1.]]\n"
     ]
    }
   ],
   "source": [
    "B = np.identity(3)\n",
    "print(B)"
   ]
  },
  {
   "cell_type": "markdown",
   "metadata": {
    "id": "2atEg8rqJdX9"
   },
   "source": [
    "Multiplicação da Matriz identidade pela Matriz A\n",
    "\n",
    "Toda matriz multiplicada por uma matriz identidade DE MESMA ORDEM é ela mesma\n",
    "\n",
    "Para A.In = A = In.A, ambas as matrizes devem ter mesma ordem"
   ]
  },
  {
   "cell_type": "code",
   "execution_count": 10,
   "metadata": {
    "colab": {
     "base_uri": "https://localhost:8080/"
    },
    "executionInfo": {
     "elapsed": 340,
     "status": "ok",
     "timestamp": 1683747171924,
     "user": {
      "displayName": "Vitor Kauã",
      "userId": "12140629191258006883"
     },
     "user_tz": 180
    },
    "id": "j3Z4JfazI8jZ",
    "outputId": "b5bfd621-100b-4d62-9174-a74ba7942b1f"
   },
   "outputs": [
    {
     "name": "stdout",
     "output_type": "stream",
     "text": [
      "[[3. 7. 2.]\n",
      " [9. 2. 4.]\n",
      " [8. 9. 7.]]\n"
     ]
    }
   ],
   "source": [
    "C = A.dot(B)\n",
    "print(C)"
   ]
  },
  {
   "cell_type": "code",
   "execution_count": 11,
   "metadata": {
    "colab": {
     "base_uri": "https://localhost:8080/"
    },
    "executionInfo": {
     "elapsed": 4,
     "status": "ok",
     "timestamp": 1683747197798,
     "user": {
      "displayName": "Vitor Kauã",
      "userId": "12140629191258006883"
     },
     "user_tz": 180
    },
    "id": "_buxZe9vJRbc",
    "outputId": "837e3e50-af2a-459a-8833-e5431d2faed5"
   },
   "outputs": [
    {
     "name": "stdout",
     "output_type": "stream",
     "text": [
      "[[3. 7. 2.]\n",
      " [9. 2. 4.]\n",
      " [8. 9. 7.]]\n"
     ]
    }
   ],
   "source": [
    "D = B.dot(A)\n",
    "print(D)"
   ]
  },
  {
   "cell_type": "code",
   "execution_count": 15,
   "metadata": {
    "colab": {
     "base_uri": "https://localhost:8080/"
    },
    "executionInfo": {
     "elapsed": 251,
     "status": "ok",
     "timestamp": 1683747551403,
     "user": {
      "displayName": "Vitor Kauã",
      "userId": "12140629191258006883"
     },
     "user_tz": 180
    },
    "id": "C6gbwFT6J083",
    "outputId": "bf74eb0f-3bb7-4152-da25-eab8c897bdbd"
   },
   "outputs": [
    {
     "name": "stdout",
     "output_type": "stream",
     "text": [
      "[[2. 4.]\n",
      " [4. 3.]\n",
      " [3. 9.]]\n"
     ]
    }
   ],
   "source": [
    "X = np.matrix('2.0, 4.0; 4.0, 3.0; 3.0, 9.0')\n",
    "print(X)"
   ]
  },
  {
   "cell_type": "markdown",
   "metadata": {
    "id": "XQfV9P_fMFCA"
   },
   "source": []
  },
  {
   "cell_type": "code",
   "execution_count": 17,
   "metadata": {
    "colab": {
     "base_uri": "https://localhost:8080/",
     "height": 269
    },
    "executionInfo": {
     "elapsed": 529,
     "status": "error",
     "timestamp": 1683747652559,
     "user": {
      "displayName": "Vitor Kauã",
      "userId": "12140629191258006883"
     },
     "user_tz": 180
    },
    "id": "9cIWsb8mKjEw",
    "outputId": "20459bb4-f51f-4319-dfb1-808a42298b3b"
   },
   "outputs": [
    {
     "name": "stdout",
     "output_type": "stream",
     "text": [
      "[[2. 4.]\n",
      " [4. 3.]\n",
      " [3. 9.]]\n"
     ]
    },
    {
     "ename": "ValueError",
     "evalue": "ignored",
     "output_type": "error",
     "traceback": [
      "\u001b[0;31m---------------------------------------------------------------------------\u001b[0m",
      "\u001b[0;31mValueError\u001b[0m                                Traceback (most recent call last)",
      "\u001b[0;32m<ipython-input-17-d1bcd3d9befa>\u001b[0m in \u001b[0;36m<cell line: 3>\u001b[0;34m()\u001b[0m\n\u001b[1;32m      1\u001b[0m \u001b[0mE\u001b[0m \u001b[0;34m=\u001b[0m \u001b[0mB\u001b[0m\u001b[0;34m.\u001b[0m\u001b[0mdot\u001b[0m\u001b[0;34m(\u001b[0m\u001b[0mX\u001b[0m\u001b[0;34m)\u001b[0m\u001b[0;34m\u001b[0m\u001b[0;34m\u001b[0m\u001b[0m\n\u001b[1;32m      2\u001b[0m \u001b[0mprint\u001b[0m\u001b[0;34m(\u001b[0m\u001b[0mE\u001b[0m\u001b[0;34m)\u001b[0m\u001b[0;34m\u001b[0m\u001b[0;34m\u001b[0m\u001b[0m\n\u001b[0;32m----> 3\u001b[0;31m \u001b[0mE\u001b[0m \u001b[0;34m=\u001b[0m \u001b[0mX\u001b[0m\u001b[0;34m.\u001b[0m\u001b[0mdot\u001b[0m\u001b[0;34m(\u001b[0m\u001b[0mB\u001b[0m\u001b[0;34m)\u001b[0m\u001b[0;34m\u001b[0m\u001b[0;34m\u001b[0m\u001b[0m\n\u001b[0m\u001b[1;32m      4\u001b[0m \u001b[0mprint\u001b[0m\u001b[0;34m(\u001b[0m\u001b[0mE\u001b[0m\u001b[0;34m)\u001b[0m\u001b[0;34m\u001b[0m\u001b[0;34m\u001b[0m\u001b[0m\n",
      "\u001b[0;31mValueError\u001b[0m: shapes (3,2) and (3,3) not aligned: 2 (dim 1) != 3 (dim 0)"
     ]
    }
   ],
   "source": [
    "E = B.dot(X)\n",
    "print(E)\n",
    "E = X.dot(B)\n",
    "print(E)"
   ]
  },
  {
   "cell_type": "code",
   "execution_count": null,
   "metadata": {
    "id": "IUQTUCXYLf0J"
   },
   "outputs": [],
   "source": []
  }
 ],
 "metadata": {
  "colab": {
   "authorship_tag": "ABX9TyOSKHUbi5qF9uAkD1ta0msh",
   "provenance": []
  },
  "kernelspec": {
   "display_name": "Python 3 (ipykernel)",
   "language": "python",
   "name": "python3"
  },
  "language_info": {
   "codemirror_mode": {
    "name": "ipython",
    "version": 3
   },
   "file_extension": ".py",
   "mimetype": "text/x-python",
   "name": "python",
   "nbconvert_exporter": "python",
   "pygments_lexer": "ipython3",
   "version": "3.11.3"
  }
 },
 "nbformat": 4,
 "nbformat_minor": 1
}
