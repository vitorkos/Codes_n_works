{
 "cells": [
  {
   "cell_type": "markdown",
   "id": "52883c94",
   "metadata": {},
   "source": [
    "## types of variables\n",
    "\n",
    "int = integral\n",
    "\n",
    "float = decimal number\n",
    "\n",
    "string = \"text\"\n",
    "\n",
    "bool = true or false\n",
    "\n",
    "Variables are not declared explicit in Python"
   ]
  },
  {
   "cell_type": "code",
   "execution_count": 1,
   "id": "377365b1",
   "metadata": {},
   "outputs": [
    {
     "data": {
      "text/plain": [
       "int"
      ]
     },
     "execution_count": 1,
     "metadata": {},
     "output_type": "execute_result"
    }
   ],
   "source": [
    "integral = 1\n",
    "type(integral)"
   ]
  },
  {
   "cell_type": "code",
   "execution_count": 2,
   "id": "0cffe718",
   "metadata": {},
   "outputs": [
    {
     "data": {
      "text/plain": [
       "float"
      ]
     },
     "execution_count": 2,
     "metadata": {},
     "output_type": "execute_result"
    }
   ],
   "source": [
    "floating = 1.0\n",
    "type(floating)"
   ]
  },
  {
   "cell_type": "code",
   "execution_count": 3,
   "id": "3cbff977",
   "metadata": {},
   "outputs": [
    {
     "data": {
      "text/plain": [
       "str"
      ]
     },
     "execution_count": 3,
     "metadata": {},
     "output_type": "execute_result"
    }
   ],
   "source": [
    "string = 'string'\n",
    "type(string)"
   ]
  },
  {
   "cell_type": "code",
   "execution_count": 4,
   "id": "d88d2c38",
   "metadata": {},
   "outputs": [
    {
     "data": {
      "text/plain": [
       "bool"
      ]
     },
     "execution_count": 4,
     "metadata": {},
     "output_type": "execute_result"
    }
   ],
   "source": [
    "boolean = True\n",
    "type(boolean)"
   ]
  }
 ],
 "metadata": {
  "kernelspec": {
   "display_name": "Python 3 (ipykernel)",
   "language": "python",
   "name": "python3"
  },
  "language_info": {
   "codemirror_mode": {
    "name": "ipython",
    "version": 3
   },
   "file_extension": ".py",
   "mimetype": "text/x-python",
   "name": "python",
   "nbconvert_exporter": "python",
   "pygments_lexer": "ipython3",
   "version": "3.9.13"
  }
 },
 "nbformat": 4,
 "nbformat_minor": 5
}
