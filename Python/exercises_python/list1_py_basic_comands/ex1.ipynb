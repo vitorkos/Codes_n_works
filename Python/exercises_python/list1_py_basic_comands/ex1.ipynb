{
 "cells": [
  {
   "cell_type": "markdown",
   "id": "f4e3c98b",
   "metadata": {},
   "source": [
    "this is a markdown text, so it will be showed in the screen but not executed like a code"
   ]
  },
  {
   "cell_type": "code",
   "execution_count": 4,
   "id": "e0a5231b",
   "metadata": {},
   "outputs": [
    {
     "name": "stdout",
     "output_type": "stream",
     "text": [
      "1 2\n",
      "hello world\n"
     ]
    }
   ],
   "source": [
    "#is not commun use INDENTATION on python\n",
    "\n",
    "#this will not be printed\n",
    "\n",
    "print(1)\n",
    "print(1, 2)\n",
    "\n",
    "print(hello world) # error\n",
    "\n",
    "#if in a print the content of the function isnt in quote itll be\n",
    "#interpreted as a number if it is or as a variable\n",
    "\n",
    "print('hello world')\n",
    "\n",
    "#\"\" means a string"
   ]
  },
  {
   "cell_type": "code",
   "execution_count": 5,
   "id": "e76d6729",
   "metadata": {},
   "outputs": [
    {
     "name": "stdout",
     "output_type": "stream",
     "text": [
      "2\n",
      "1 + 1\n",
      "10\n",
      "2.0\n",
      "0\n",
      "5.0\n",
      "7\n",
      "9\n"
     ]
    }
   ],
   "source": [
    "print(1 + 1) # print the result of the operation\n",
    "\n",
    "print('1 + 1') #will print as a string\n",
    "\n",
    "print(2 * 5)#print the multiplication\n",
    "\n",
    "print(10 / 5)#print the division between the two numbers\n",
    "\n",
    "print(10 % 5)#print the rest of the division between the two \n",
    "#numbers\n",
    "\n",
    "print(2.5 * 2)#integer number have always a .\n",
    "\n",
    "print(1 + 2 * 3)\n",
    "\n",
    "print((1 + 2) * 3)"
   ]
  }
 ],
 "metadata": {
  "kernelspec": {
   "display_name": "Python 3 (ipykernel)",
   "language": "python",
   "name": "python3"
  },
  "language_info": {
   "codemirror_mode": {
    "name": "ipython",
    "version": 3
   },
   "file_extension": ".py",
   "mimetype": "text/x-python",
   "name": "python",
   "nbconvert_exporter": "python",
   "pygments_lexer": "ipython3",
   "version": "3.9.13"
  }
 },
 "nbformat": 4,
 "nbformat_minor": 5
}
